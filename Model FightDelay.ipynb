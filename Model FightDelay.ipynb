{
  "nbformat": 4,
  "nbformat_minor": 0,
  "metadata": {
    "colab": {
      "name": "ini_model_outlier new with random forest.ipynb",
      "provenance": [],
      "collapsed_sections": [],
      "machine_shape": "hm"
    },
    "kernelspec": {
      "name": "python3",
      "display_name": "Python 3"
    }
  },
  "cells": [
    {
      "cell_type": "code",
      "metadata": {
        "id": "X-Vg-VyS6ZNR",
        "colab_type": "code",
        "outputId": "04f0d308-3fb5-4151-e790-e66bdb51f2bd",
        "colab": {
          "base_uri": "https://localhost:8080/",
          "height": 33
        }
      },
      "source": [
        "from google.colab import drive\n",
        "drive.mount('/content/gdrive')"
      ],
      "execution_count": 0,
      "outputs": [
        {
          "output_type": "stream",
          "text": [
            "Drive already mounted at /content/gdrive; to attempt to forcibly remount, call drive.mount(\"/content/gdrive\", force_remount=True).\n"
          ],
          "name": "stdout"
        }
      ]
    },
    {
      "cell_type": "code",
      "metadata": {
        "id": "TNPQ8_ly6iSN",
        "colab_type": "code",
        "colab": {}
      },
      "source": [
        "import pandas as pd\n",
        "import numpy as np"
      ],
      "execution_count": 0,
      "outputs": []
    },
    {
      "cell_type": "code",
      "metadata": {
        "id": "1izPB37i6j6k",
        "colab_type": "code",
        "outputId": "2798063b-1191-411e-8a6d-56ff552b54e1",
        "colab": {
          "base_uri": "https://localhost:8080/",
          "height": 33
        }
      },
      "source": [
        "flight = pd.read_csv('gdrive/My Drive/Colab Notebooks/raw-flight-data.csv')\n",
        "len(flight)"
      ],
      "execution_count": 0,
      "outputs": [
        {
          "output_type": "execute_result",
          "data": {
            "text/plain": [
              "2719418"
            ]
          },
          "metadata": {
            "tags": []
          },
          "execution_count": 8
        }
      ]
    },
    {
      "cell_type": "markdown",
      "metadata": {
        "id": "Xyy5iONo6z0u",
        "colab_type": "text"
      },
      "source": [
        "Hapus Data NULL"
      ]
    },
    {
      "cell_type": "code",
      "metadata": {
        "id": "aYfgPb5K6r59",
        "colab_type": "code",
        "outputId": "6bc31c2d-4121-4518-9331-4a1b2894798b",
        "colab": {
          "base_uri": "https://localhost:8080/",
          "height": 163
        }
      },
      "source": [
        "flight = flight[np.isfinite(flight['ArrDelay'])]\n",
        "flight= flight[np.isfinite(flight['DepDelay'])]\n",
        "print(flight.isnull().sum())\n",
        "print(len(flight))"
      ],
      "execution_count": 0,
      "outputs": [
        {
          "output_type": "stream",
          "text": [
            "DayofMonth         0\n",
            "DayOfWeek          0\n",
            "Carrier            0\n",
            "OriginAirportID    0\n",
            "DestAirportID      0\n",
            "DepDelay           0\n",
            "ArrDelay           0\n",
            "dtype: int64\n",
            "2690385\n"
          ],
          "name": "stdout"
        }
      ]
    },
    {
      "cell_type": "markdown",
      "metadata": {
        "id": "zfDMz2B663XG",
        "colab_type": "text"
      },
      "source": [
        "Hapus Data Duplicates"
      ]
    },
    {
      "cell_type": "code",
      "metadata": {
        "id": "uCr9-uZl6svi",
        "colab_type": "code",
        "outputId": "5abe2cab-4930-4717-c222-4d512ce98290",
        "colab": {
          "base_uri": "https://localhost:8080/",
          "height": 82
        }
      },
      "source": [
        "duplicateRowsDF = flight[flight.duplicated()]\n",
        "print(\"Duplicate Rows except first occurrence based on all columns are :\")\n",
        "print(len(duplicateRowsDF))\n",
        "flight = flight.drop_duplicates(keep='first')\n",
        "duplicateRowsDF = flight[flight.duplicated()]\n",
        "print(\"Duplicate Rows except first occurrence based on all columns are :(After Drop)\")\n",
        "print(len(duplicateRowsDF))"
      ],
      "execution_count": 0,
      "outputs": [
        {
          "output_type": "stream",
          "text": [
            "Duplicate Rows except first occurrence based on all columns are :\n",
            "17200\n",
            "Duplicate Rows except first occurrence based on all columns are :(After Drop)\n",
            "0\n"
          ],
          "name": "stdout"
        }
      ]
    },
    {
      "cell_type": "code",
      "metadata": {
        "id": "NiyRCm82WXxW",
        "colab_type": "code",
        "outputId": "50a0159c-a96f-41e2-e26b-3d5da8abd1c9",
        "colab": {
          "base_uri": "https://localhost:8080/",
          "height": 33
        }
      },
      "source": [
        "len(flight)"
      ],
      "execution_count": 0,
      "outputs": [
        {
          "output_type": "execute_result",
          "data": {
            "text/plain": [
              "2673185"
            ]
          },
          "metadata": {
            "tags": []
          },
          "execution_count": 11
        }
      ]
    },
    {
      "cell_type": "markdown",
      "metadata": {
        "id": "56TkLE8BPEGl",
        "colab_type": "text"
      },
      "source": [
        "**Remove Outlier**"
      ]
    },
    {
      "cell_type": "code",
      "metadata": {
        "id": "_sESA2XRPAVh",
        "colab_type": "code",
        "colab": {}
      },
      "source": [
        "def outlier_treatment(datacolumn):\n",
        "    sorted(datacolumn)\n",
        "    Q1,Q3 = np.percentile(datacolumn , [25,75])\n",
        "    IQR = Q3 - Q1\n",
        "    # print(Q1)\n",
        "    # print(Q3)    \n",
        "    lower_range = Q1 - (1.5 * IQR)\n",
        "    upper_range = Q3 + (1.5 * IQR)\n",
        "    return lower_range,upper_range,IQR"
      ],
      "execution_count": 0,
      "outputs": []
    },
    {
      "cell_type": "code",
      "metadata": {
        "id": "maVKUF2KPNTP",
        "colab_type": "code",
        "colab": {}
      },
      "source": [
        "l,u,iqr = outlier_treatment(flight['DepDelay'])\n",
        "# print(l)\n",
        "# print(u)\n",
        "# print(iqr)\n"
      ],
      "execution_count": 0,
      "outputs": []
    },
    {
      "cell_type": "code",
      "metadata": {
        "id": "i1O06R0OPXZV",
        "colab_type": "code",
        "outputId": "6f7ae6b5-514a-4343-e28b-f497dc3fe8f4",
        "colab": {
          "base_uri": "https://localhost:8080/",
          "height": 33
        }
      },
      "source": [
        "flight.drop(flight[ (flight['DepDelay'] > u) | (flight['DepDelay'] < l) ].index , inplace=True)\n",
        "len(flight)"
      ],
      "execution_count": 0,
      "outputs": [
        {
          "output_type": "execute_result",
          "data": {
            "text/plain": [
              "2360184"
            ]
          },
          "metadata": {
            "tags": []
          },
          "execution_count": 14
        }
      ]
    },
    {
      "cell_type": "code",
      "metadata": {
        "id": "4ZRtXhd9Peim",
        "colab_type": "code",
        "outputId": "38b66bc0-165a-4869-ead1-21288a890c01",
        "colab": {
          "base_uri": "https://localhost:8080/",
          "height": 33
        }
      },
      "source": [
        "ll,uu,iqr2 = outlier_treatment(flight['ArrDelay'])\n",
        "flight.drop(flight[ (flight['ArrDelay'] > uu) | (flight['ArrDelay'] < ll) ].index , inplace=True)\n",
        "len(flight)"
      ],
      "execution_count": 0,
      "outputs": [
        {
          "output_type": "execute_result",
          "data": {
            "text/plain": [
              "2284134"
            ]
          },
          "metadata": {
            "tags": []
          },
          "execution_count": 15
        }
      ]
    },
    {
      "cell_type": "code",
      "metadata": {
        "id": "TUG2nhWhoZvL",
        "colab_type": "code",
        "colab": {}
      },
      "source": [
        ""
      ],
      "execution_count": 0,
      "outputs": []
    },
    {
      "cell_type": "markdown",
      "metadata": {
        "id": "UNFjiFJI7IJm",
        "colab_type": "text"
      },
      "source": [
        "OneHotEncoding"
      ]
    },
    {
      "cell_type": "code",
      "metadata": {
        "id": "TXuopWnw66OL",
        "colab_type": "code",
        "colab": {}
      },
      "source": [
        "cols = ['DayOfWeek','Carrier','OriginAirportID','DestAirportID']\n",
        "newFlight = pd.get_dummies(flight[cols].astype(str))"
      ],
      "execution_count": 0,
      "outputs": []
    },
    {
      "cell_type": "code",
      "metadata": {
        "id": "skrdmmtj7KZo",
        "colab_type": "code",
        "outputId": "c4619558-441b-4a04-8a12-69cb18e67c0c",
        "colab": {
          "base_uri": "https://localhost:8080/",
          "height": 238
        }
      },
      "source": [
        "newFlight = pd.concat([newFlight,flight[['DepDelay','ArrDelay']]], axis=1)\n",
        "newFlight.head()"
      ],
      "execution_count": 0,
      "outputs": [
        {
          "output_type": "execute_result",
          "data": {
            "text/html": [
              "<div>\n",
              "<style scoped>\n",
              "    .dataframe tbody tr th:only-of-type {\n",
              "        vertical-align: middle;\n",
              "    }\n",
              "\n",
              "    .dataframe tbody tr th {\n",
              "        vertical-align: top;\n",
              "    }\n",
              "\n",
              "    .dataframe thead th {\n",
              "        text-align: right;\n",
              "    }\n",
              "</style>\n",
              "<table border=\"1\" class=\"dataframe\">\n",
              "  <thead>\n",
              "    <tr style=\"text-align: right;\">\n",
              "      <th></th>\n",
              "      <th>DayOfWeek_1</th>\n",
              "      <th>DayOfWeek_2</th>\n",
              "      <th>DayOfWeek_3</th>\n",
              "      <th>DayOfWeek_4</th>\n",
              "      <th>DayOfWeek_5</th>\n",
              "      <th>DayOfWeek_6</th>\n",
              "      <th>DayOfWeek_7</th>\n",
              "      <th>Carrier_9E</th>\n",
              "      <th>Carrier_AA</th>\n",
              "      <th>Carrier_AS</th>\n",
              "      <th>Carrier_B6</th>\n",
              "      <th>Carrier_DL</th>\n",
              "      <th>Carrier_EV</th>\n",
              "      <th>Carrier_F9</th>\n",
              "      <th>Carrier_FL</th>\n",
              "      <th>Carrier_HA</th>\n",
              "      <th>Carrier_MQ</th>\n",
              "      <th>Carrier_OO</th>\n",
              "      <th>Carrier_UA</th>\n",
              "      <th>Carrier_US</th>\n",
              "      <th>Carrier_VX</th>\n",
              "      <th>Carrier_WN</th>\n",
              "      <th>Carrier_YV</th>\n",
              "      <th>OriginAirportID_10140</th>\n",
              "      <th>OriginAirportID_10299</th>\n",
              "      <th>OriginAirportID_10397</th>\n",
              "      <th>OriginAirportID_10423</th>\n",
              "      <th>OriginAirportID_10529</th>\n",
              "      <th>OriginAirportID_10693</th>\n",
              "      <th>OriginAirportID_10721</th>\n",
              "      <th>OriginAirportID_10792</th>\n",
              "      <th>OriginAirportID_10800</th>\n",
              "      <th>OriginAirportID_10821</th>\n",
              "      <th>OriginAirportID_11042</th>\n",
              "      <th>OriginAirportID_11057</th>\n",
              "      <th>OriginAirportID_11066</th>\n",
              "      <th>OriginAirportID_11193</th>\n",
              "      <th>OriginAirportID_11259</th>\n",
              "      <th>OriginAirportID_11278</th>\n",
              "      <th>OriginAirportID_11292</th>\n",
              "      <th>...</th>\n",
              "      <th>DestAirportID_13198</th>\n",
              "      <th>DestAirportID_13204</th>\n",
              "      <th>DestAirportID_13232</th>\n",
              "      <th>DestAirportID_13244</th>\n",
              "      <th>DestAirportID_13303</th>\n",
              "      <th>DestAirportID_13342</th>\n",
              "      <th>DestAirportID_13487</th>\n",
              "      <th>DestAirportID_13495</th>\n",
              "      <th>DestAirportID_13796</th>\n",
              "      <th>DestAirportID_13830</th>\n",
              "      <th>DestAirportID_13851</th>\n",
              "      <th>DestAirportID_13871</th>\n",
              "      <th>DestAirportID_13891</th>\n",
              "      <th>DestAirportID_13930</th>\n",
              "      <th>DestAirportID_13931</th>\n",
              "      <th>DestAirportID_14027</th>\n",
              "      <th>DestAirportID_14057</th>\n",
              "      <th>DestAirportID_14100</th>\n",
              "      <th>DestAirportID_14107</th>\n",
              "      <th>DestAirportID_14122</th>\n",
              "      <th>DestAirportID_14307</th>\n",
              "      <th>DestAirportID_14492</th>\n",
              "      <th>DestAirportID_14524</th>\n",
              "      <th>DestAirportID_14570</th>\n",
              "      <th>DestAirportID_14635</th>\n",
              "      <th>DestAirportID_14679</th>\n",
              "      <th>DestAirportID_14683</th>\n",
              "      <th>DestAirportID_14730</th>\n",
              "      <th>DestAirportID_14747</th>\n",
              "      <th>DestAirportID_14771</th>\n",
              "      <th>DestAirportID_14831</th>\n",
              "      <th>DestAirportID_14843</th>\n",
              "      <th>DestAirportID_14869</th>\n",
              "      <th>DestAirportID_14893</th>\n",
              "      <th>DestAirportID_14908</th>\n",
              "      <th>DestAirportID_15016</th>\n",
              "      <th>DestAirportID_15304</th>\n",
              "      <th>DestAirportID_15376</th>\n",
              "      <th>DepDelay</th>\n",
              "      <th>ArrDelay</th>\n",
              "    </tr>\n",
              "  </thead>\n",
              "  <tbody>\n",
              "    <tr>\n",
              "      <th>0</th>\n",
              "      <td>0</td>\n",
              "      <td>0</td>\n",
              "      <td>0</td>\n",
              "      <td>0</td>\n",
              "      <td>1</td>\n",
              "      <td>0</td>\n",
              "      <td>0</td>\n",
              "      <td>0</td>\n",
              "      <td>0</td>\n",
              "      <td>0</td>\n",
              "      <td>0</td>\n",
              "      <td>1</td>\n",
              "      <td>0</td>\n",
              "      <td>0</td>\n",
              "      <td>0</td>\n",
              "      <td>0</td>\n",
              "      <td>0</td>\n",
              "      <td>0</td>\n",
              "      <td>0</td>\n",
              "      <td>0</td>\n",
              "      <td>0</td>\n",
              "      <td>0</td>\n",
              "      <td>0</td>\n",
              "      <td>0</td>\n",
              "      <td>0</td>\n",
              "      <td>0</td>\n",
              "      <td>0</td>\n",
              "      <td>0</td>\n",
              "      <td>0</td>\n",
              "      <td>0</td>\n",
              "      <td>0</td>\n",
              "      <td>0</td>\n",
              "      <td>0</td>\n",
              "      <td>0</td>\n",
              "      <td>0</td>\n",
              "      <td>0</td>\n",
              "      <td>0</td>\n",
              "      <td>0</td>\n",
              "      <td>0</td>\n",
              "      <td>0</td>\n",
              "      <td>...</td>\n",
              "      <td>0</td>\n",
              "      <td>0</td>\n",
              "      <td>0</td>\n",
              "      <td>0</td>\n",
              "      <td>1</td>\n",
              "      <td>0</td>\n",
              "      <td>0</td>\n",
              "      <td>0</td>\n",
              "      <td>0</td>\n",
              "      <td>0</td>\n",
              "      <td>0</td>\n",
              "      <td>0</td>\n",
              "      <td>0</td>\n",
              "      <td>0</td>\n",
              "      <td>0</td>\n",
              "      <td>0</td>\n",
              "      <td>0</td>\n",
              "      <td>0</td>\n",
              "      <td>0</td>\n",
              "      <td>0</td>\n",
              "      <td>0</td>\n",
              "      <td>0</td>\n",
              "      <td>0</td>\n",
              "      <td>0</td>\n",
              "      <td>0</td>\n",
              "      <td>0</td>\n",
              "      <td>0</td>\n",
              "      <td>0</td>\n",
              "      <td>0</td>\n",
              "      <td>0</td>\n",
              "      <td>0</td>\n",
              "      <td>0</td>\n",
              "      <td>0</td>\n",
              "      <td>0</td>\n",
              "      <td>0</td>\n",
              "      <td>0</td>\n",
              "      <td>0</td>\n",
              "      <td>0</td>\n",
              "      <td>-3.0</td>\n",
              "      <td>1.0</td>\n",
              "    </tr>\n",
              "    <tr>\n",
              "      <th>1</th>\n",
              "      <td>0</td>\n",
              "      <td>0</td>\n",
              "      <td>0</td>\n",
              "      <td>0</td>\n",
              "      <td>1</td>\n",
              "      <td>0</td>\n",
              "      <td>0</td>\n",
              "      <td>0</td>\n",
              "      <td>0</td>\n",
              "      <td>0</td>\n",
              "      <td>0</td>\n",
              "      <td>1</td>\n",
              "      <td>0</td>\n",
              "      <td>0</td>\n",
              "      <td>0</td>\n",
              "      <td>0</td>\n",
              "      <td>0</td>\n",
              "      <td>0</td>\n",
              "      <td>0</td>\n",
              "      <td>0</td>\n",
              "      <td>0</td>\n",
              "      <td>0</td>\n",
              "      <td>0</td>\n",
              "      <td>0</td>\n",
              "      <td>0</td>\n",
              "      <td>0</td>\n",
              "      <td>0</td>\n",
              "      <td>0</td>\n",
              "      <td>0</td>\n",
              "      <td>0</td>\n",
              "      <td>0</td>\n",
              "      <td>0</td>\n",
              "      <td>0</td>\n",
              "      <td>0</td>\n",
              "      <td>0</td>\n",
              "      <td>0</td>\n",
              "      <td>0</td>\n",
              "      <td>0</td>\n",
              "      <td>0</td>\n",
              "      <td>0</td>\n",
              "      <td>...</td>\n",
              "      <td>0</td>\n",
              "      <td>0</td>\n",
              "      <td>0</td>\n",
              "      <td>0</td>\n",
              "      <td>0</td>\n",
              "      <td>0</td>\n",
              "      <td>0</td>\n",
              "      <td>0</td>\n",
              "      <td>0</td>\n",
              "      <td>0</td>\n",
              "      <td>0</td>\n",
              "      <td>0</td>\n",
              "      <td>0</td>\n",
              "      <td>0</td>\n",
              "      <td>0</td>\n",
              "      <td>0</td>\n",
              "      <td>0</td>\n",
              "      <td>0</td>\n",
              "      <td>0</td>\n",
              "      <td>0</td>\n",
              "      <td>0</td>\n",
              "      <td>0</td>\n",
              "      <td>0</td>\n",
              "      <td>0</td>\n",
              "      <td>0</td>\n",
              "      <td>0</td>\n",
              "      <td>0</td>\n",
              "      <td>0</td>\n",
              "      <td>0</td>\n",
              "      <td>0</td>\n",
              "      <td>0</td>\n",
              "      <td>0</td>\n",
              "      <td>0</td>\n",
              "      <td>0</td>\n",
              "      <td>0</td>\n",
              "      <td>0</td>\n",
              "      <td>0</td>\n",
              "      <td>0</td>\n",
              "      <td>0.0</td>\n",
              "      <td>-8.0</td>\n",
              "    </tr>\n",
              "    <tr>\n",
              "      <th>2</th>\n",
              "      <td>0</td>\n",
              "      <td>0</td>\n",
              "      <td>0</td>\n",
              "      <td>0</td>\n",
              "      <td>1</td>\n",
              "      <td>0</td>\n",
              "      <td>0</td>\n",
              "      <td>0</td>\n",
              "      <td>0</td>\n",
              "      <td>0</td>\n",
              "      <td>0</td>\n",
              "      <td>1</td>\n",
              "      <td>0</td>\n",
              "      <td>0</td>\n",
              "      <td>0</td>\n",
              "      <td>0</td>\n",
              "      <td>0</td>\n",
              "      <td>0</td>\n",
              "      <td>0</td>\n",
              "      <td>0</td>\n",
              "      <td>0</td>\n",
              "      <td>0</td>\n",
              "      <td>0</td>\n",
              "      <td>0</td>\n",
              "      <td>0</td>\n",
              "      <td>0</td>\n",
              "      <td>0</td>\n",
              "      <td>0</td>\n",
              "      <td>0</td>\n",
              "      <td>0</td>\n",
              "      <td>0</td>\n",
              "      <td>0</td>\n",
              "      <td>0</td>\n",
              "      <td>0</td>\n",
              "      <td>0</td>\n",
              "      <td>0</td>\n",
              "      <td>0</td>\n",
              "      <td>0</td>\n",
              "      <td>0</td>\n",
              "      <td>0</td>\n",
              "      <td>...</td>\n",
              "      <td>0</td>\n",
              "      <td>0</td>\n",
              "      <td>0</td>\n",
              "      <td>0</td>\n",
              "      <td>0</td>\n",
              "      <td>0</td>\n",
              "      <td>0</td>\n",
              "      <td>0</td>\n",
              "      <td>0</td>\n",
              "      <td>0</td>\n",
              "      <td>0</td>\n",
              "      <td>0</td>\n",
              "      <td>0</td>\n",
              "      <td>0</td>\n",
              "      <td>0</td>\n",
              "      <td>0</td>\n",
              "      <td>0</td>\n",
              "      <td>0</td>\n",
              "      <td>0</td>\n",
              "      <td>0</td>\n",
              "      <td>0</td>\n",
              "      <td>0</td>\n",
              "      <td>0</td>\n",
              "      <td>0</td>\n",
              "      <td>0</td>\n",
              "      <td>0</td>\n",
              "      <td>0</td>\n",
              "      <td>0</td>\n",
              "      <td>0</td>\n",
              "      <td>0</td>\n",
              "      <td>0</td>\n",
              "      <td>0</td>\n",
              "      <td>1</td>\n",
              "      <td>0</td>\n",
              "      <td>0</td>\n",
              "      <td>0</td>\n",
              "      <td>0</td>\n",
              "      <td>0</td>\n",
              "      <td>-4.0</td>\n",
              "      <td>-15.0</td>\n",
              "    </tr>\n",
              "    <tr>\n",
              "      <th>3</th>\n",
              "      <td>0</td>\n",
              "      <td>0</td>\n",
              "      <td>0</td>\n",
              "      <td>0</td>\n",
              "      <td>1</td>\n",
              "      <td>0</td>\n",
              "      <td>0</td>\n",
              "      <td>0</td>\n",
              "      <td>0</td>\n",
              "      <td>0</td>\n",
              "      <td>0</td>\n",
              "      <td>1</td>\n",
              "      <td>0</td>\n",
              "      <td>0</td>\n",
              "      <td>0</td>\n",
              "      <td>0</td>\n",
              "      <td>0</td>\n",
              "      <td>0</td>\n",
              "      <td>0</td>\n",
              "      <td>0</td>\n",
              "      <td>0</td>\n",
              "      <td>0</td>\n",
              "      <td>0</td>\n",
              "      <td>0</td>\n",
              "      <td>0</td>\n",
              "      <td>0</td>\n",
              "      <td>0</td>\n",
              "      <td>0</td>\n",
              "      <td>0</td>\n",
              "      <td>0</td>\n",
              "      <td>0</td>\n",
              "      <td>0</td>\n",
              "      <td>0</td>\n",
              "      <td>0</td>\n",
              "      <td>0</td>\n",
              "      <td>0</td>\n",
              "      <td>0</td>\n",
              "      <td>0</td>\n",
              "      <td>0</td>\n",
              "      <td>0</td>\n",
              "      <td>...</td>\n",
              "      <td>0</td>\n",
              "      <td>0</td>\n",
              "      <td>0</td>\n",
              "      <td>0</td>\n",
              "      <td>0</td>\n",
              "      <td>0</td>\n",
              "      <td>0</td>\n",
              "      <td>0</td>\n",
              "      <td>0</td>\n",
              "      <td>0</td>\n",
              "      <td>0</td>\n",
              "      <td>0</td>\n",
              "      <td>0</td>\n",
              "      <td>0</td>\n",
              "      <td>0</td>\n",
              "      <td>0</td>\n",
              "      <td>0</td>\n",
              "      <td>0</td>\n",
              "      <td>0</td>\n",
              "      <td>0</td>\n",
              "      <td>0</td>\n",
              "      <td>0</td>\n",
              "      <td>0</td>\n",
              "      <td>0</td>\n",
              "      <td>0</td>\n",
              "      <td>0</td>\n",
              "      <td>0</td>\n",
              "      <td>0</td>\n",
              "      <td>0</td>\n",
              "      <td>0</td>\n",
              "      <td>0</td>\n",
              "      <td>0</td>\n",
              "      <td>0</td>\n",
              "      <td>0</td>\n",
              "      <td>0</td>\n",
              "      <td>0</td>\n",
              "      <td>0</td>\n",
              "      <td>0</td>\n",
              "      <td>28.0</td>\n",
              "      <td>24.0</td>\n",
              "    </tr>\n",
              "    <tr>\n",
              "      <th>4</th>\n",
              "      <td>0</td>\n",
              "      <td>0</td>\n",
              "      <td>0</td>\n",
              "      <td>0</td>\n",
              "      <td>1</td>\n",
              "      <td>0</td>\n",
              "      <td>0</td>\n",
              "      <td>0</td>\n",
              "      <td>0</td>\n",
              "      <td>0</td>\n",
              "      <td>0</td>\n",
              "      <td>1</td>\n",
              "      <td>0</td>\n",
              "      <td>0</td>\n",
              "      <td>0</td>\n",
              "      <td>0</td>\n",
              "      <td>0</td>\n",
              "      <td>0</td>\n",
              "      <td>0</td>\n",
              "      <td>0</td>\n",
              "      <td>0</td>\n",
              "      <td>0</td>\n",
              "      <td>0</td>\n",
              "      <td>0</td>\n",
              "      <td>0</td>\n",
              "      <td>0</td>\n",
              "      <td>0</td>\n",
              "      <td>0</td>\n",
              "      <td>0</td>\n",
              "      <td>0</td>\n",
              "      <td>0</td>\n",
              "      <td>0</td>\n",
              "      <td>0</td>\n",
              "      <td>0</td>\n",
              "      <td>0</td>\n",
              "      <td>0</td>\n",
              "      <td>1</td>\n",
              "      <td>0</td>\n",
              "      <td>0</td>\n",
              "      <td>0</td>\n",
              "      <td>...</td>\n",
              "      <td>0</td>\n",
              "      <td>0</td>\n",
              "      <td>0</td>\n",
              "      <td>0</td>\n",
              "      <td>0</td>\n",
              "      <td>0</td>\n",
              "      <td>0</td>\n",
              "      <td>0</td>\n",
              "      <td>0</td>\n",
              "      <td>0</td>\n",
              "      <td>0</td>\n",
              "      <td>0</td>\n",
              "      <td>0</td>\n",
              "      <td>0</td>\n",
              "      <td>0</td>\n",
              "      <td>0</td>\n",
              "      <td>0</td>\n",
              "      <td>0</td>\n",
              "      <td>0</td>\n",
              "      <td>0</td>\n",
              "      <td>0</td>\n",
              "      <td>0</td>\n",
              "      <td>0</td>\n",
              "      <td>0</td>\n",
              "      <td>0</td>\n",
              "      <td>0</td>\n",
              "      <td>0</td>\n",
              "      <td>0</td>\n",
              "      <td>0</td>\n",
              "      <td>0</td>\n",
              "      <td>0</td>\n",
              "      <td>0</td>\n",
              "      <td>0</td>\n",
              "      <td>0</td>\n",
              "      <td>0</td>\n",
              "      <td>0</td>\n",
              "      <td>0</td>\n",
              "      <td>0</td>\n",
              "      <td>-6.0</td>\n",
              "      <td>-11.0</td>\n",
              "    </tr>\n",
              "  </tbody>\n",
              "</table>\n",
              "<p>5 rows × 165 columns</p>\n",
              "</div>"
            ],
            "text/plain": [
              "   DayOfWeek_1  DayOfWeek_2  ...  DepDelay  ArrDelay\n",
              "0            0            0  ...      -3.0       1.0\n",
              "1            0            0  ...       0.0      -8.0\n",
              "2            0            0  ...      -4.0     -15.0\n",
              "3            0            0  ...      28.0      24.0\n",
              "4            0            0  ...      -6.0     -11.0\n",
              "\n",
              "[5 rows x 165 columns]"
            ]
          },
          "metadata": {
            "tags": []
          },
          "execution_count": 17
        }
      ]
    },
    {
      "cell_type": "markdown",
      "metadata": {
        "id": "wGg7_VtGGoNd",
        "colab_type": "text"
      },
      "source": [
        "Slice data"
      ]
    },
    {
      "cell_type": "code",
      "metadata": {
        "id": "EGzxeQZcGqBE",
        "colab_type": "code",
        "colab": {}
      },
      "source": [
        "# slicing data\n",
        "y = newFlight['ArrDelay']\n",
        "x = newFlight.drop('ArrDelay', axis=1)"
      ],
      "execution_count": 0,
      "outputs": []
    },
    {
      "cell_type": "markdown",
      "metadata": {
        "id": "VyS-IEpiGZ6A",
        "colab_type": "text"
      },
      "source": [
        "Import Library"
      ]
    },
    {
      "cell_type": "code",
      "metadata": {
        "id": "2UxxP0jbFC8o",
        "colab_type": "code",
        "colab": {}
      },
      "source": [
        "from sklearn.model_selection import KFold\n",
        "cv = KFold(n_splits=5)\n",
        "\n",
        "from sklearn.linear_model import LinearRegression\n",
        "from sklearn.metrics import mean_squared_error\n",
        "from sklearn.metrics import r2_score\n",
        "# from sklearn.svm import SVR, LinearSVR\n",
        "from sklearn.ensemble import RandomForestRegressor\n",
        "# from sklearn.gaussian_process import GaussianProcessRegressor\n",
        "# from sklearn.gaussian_process.kernels import DotProduct, WhiteKernel\n",
        "# from sklearn.preprocessing import PolynomialFeatures"
      ],
      "execution_count": 0,
      "outputs": []
    },
    {
      "cell_type": "markdown",
      "metadata": {
        "id": "7qFlLTkT7sKl",
        "colab_type": "text"
      },
      "source": [
        "Kalau Jalanin ini artinya tnpa fitur seleksi"
      ]
    },
    {
      "cell_type": "markdown",
      "metadata": {
        "id": "1aPHVGlRyZPd",
        "colab_type": "text"
      },
      "source": [
        "XGBoost"
      ]
    },
    {
      "cell_type": "markdown",
      "metadata": {
        "id": "csRIDzBIyMHO",
        "colab_type": "text"
      },
      "source": [
        "Fitur Seleksi dengan Pvalues => backward Elim"
      ]
    },
    {
      "cell_type": "markdown",
      "metadata": {
        "id": "QwNuKvyA8cIU",
        "colab_type": "text"
      },
      "source": [
        "Fitur Selection kedua"
      ]
    },
    {
      "cell_type": "code",
      "metadata": {
        "id": "jbKjmAvZzAly",
        "colab_type": "code",
        "outputId": "7b343507-312f-4c34-cd90-69c1e95ce15a",
        "colab": {
          "base_uri": "https://localhost:8080/",
          "height": 115
        }
      },
      "source": [
        "# Linear Regression\n",
        "score = []\n",
        "\n",
        "for train_index, test_index in cv.split(x,y):\n",
        "    model = LinearRegression()    \n",
        "    x_train, x_test = x.iloc[train_index], x.iloc[test_index]\n",
        "    y_train, y_test = y.iloc[train_index], y.iloc[test_index]    \n",
        "    model.fit(x_train, y_train)\n",
        "    y_pred = model.predict(x_test)\n",
        "    # y_train_predicted = model.predict(x_train)\n",
        "     # evaluating the model on training dataset\n",
        "    # rmse_train = np.sqrt(mean_squared_error(y_train, y_train_predicted))\n",
        "    # r2_train = r2_score(y_train, y_train_predicted)\n",
        "    \n",
        "    # evaluating the model on test dataset\n",
        "    # rmse_test = np.sqrt(mean_squared_error(y_test, y_pred))\n",
        "    # r2_test = r2_score(y_test, y_pred)\n",
        "    # print(\"The model performance for the training set\")\n",
        "    # print(\"-------------------------------------------\")\n",
        "    # print(\"RMSE of training set is {}\".format(rmse_train))\n",
        "    # print(\"R2 score of training set is {}\".format(r2_train))\n",
        "    \n",
        "    # print(\"\\n\")\n",
        "    \n",
        "    # print(\"The model performance for the test set\")\n",
        "    # print(\"-------------------------------------------\")\n",
        "    # print(\"RMSE of test set is {}\".format(rmse_test))\n",
        "    # print(\"R2 score of test set is {}\".format(r2_test))\n",
        "    #metric performance calculate\n",
        "    mse = mean_squared_error(y_test, y_pred)\n",
        "    mse = mse**0.5\n",
        "    score.append([mse])    \n",
        "    print(\"MSE:\", mse)\n",
        "print(np.mean(score,axis=0))"
      ],
      "execution_count": 0,
      "outputs": [
        {
          "output_type": "stream",
          "text": [
            "MSE: 10.26727823449456\n",
            "MSE: 9.704289554136079\n",
            "MSE: 9.950503526904688\n",
            "MSE: 9.545235654562658\n",
            "MSE: 9.921865271781027\n",
            "[9.87783445]\n"
          ],
          "name": "stdout"
        }
      ]
    },
    {
      "cell_type": "code",
      "metadata": {
        "id": "BMtr5Nkb2xRs",
        "colab_type": "code",
        "outputId": "112523f6-7152-4a50-8a24-6526daf14bfb",
        "colab": {
          "base_uri": "https://localhost:8080/",
          "height": 358
        }
      },
      "source": [
        "# XGbost Regression\n",
        "import xgboost as xgb\n",
        "from sklearn.metrics import mean_squared_error\n",
        "score = []\n",
        "params = {'objective' :'reg:linear','n_estimators': 10, 'max_depth': 5, 'min_samples_split': 2,\n",
        "          'learning_rate': 0.1, 'loss': 'ls'}\n",
        "# xg_reg = xgb.XGBRegressor(objective ='reg:linear', colsample_bytree = 0.3, learning_rate = 0.1,\n",
        "#                 max_depth = 5, alpha = 10, n_estimators = 10)\n",
        "xg_reg = xgb.XGBRegressor(**params)\n",
        "for train_index, test_index in cv.split(x,y): \n",
        "    #print(\"TRAIN:\", train_index, \"TEST:\", test_index)\n",
        "    x_train, x_test = x.iloc[train_index], x.iloc[test_index]\n",
        "    y_train, y_test = y.iloc[train_index], y.iloc[test_index]\n",
        "    xg_reg.fit(x_train, y_train)\n",
        "    y_pred = xg_reg.predict(x_test)\n",
        "    #metric performance\n",
        "    mse = mean_squared_error(y_test, y_pred)\n",
        "    mse = mse**0.5\n",
        "    score.append([mse])    \n",
        "    print(\"MSE:\", mse)\n",
        "print(np.mean(score,axis=0))"
      ],
      "execution_count": 0,
      "outputs": [
        {
          "output_type": "stream",
          "text": [
            "/usr/local/lib/python3.6/dist-packages/xgboost/core.py:587: FutureWarning: Series.base is deprecated and will be removed in a future version\n",
            "  if getattr(data, 'base', None) is not None and \\\n"
          ],
          "name": "stderr"
        },
        {
          "output_type": "stream",
          "text": [
            "[12:45:19] WARNING: /workspace/src/objective/regression_obj.cu:152: reg:linear is now deprecated in favor of reg:squarederror.\n",
            "MSE: 10.824143470120847\n"
          ],
          "name": "stdout"
        },
        {
          "output_type": "stream",
          "text": [
            "/usr/local/lib/python3.6/dist-packages/xgboost/core.py:587: FutureWarning: Series.base is deprecated and will be removed in a future version\n",
            "  if getattr(data, 'base', None) is not None and \\\n"
          ],
          "name": "stderr"
        },
        {
          "output_type": "stream",
          "text": [
            "[12:47:45] WARNING: /workspace/src/objective/regression_obj.cu:152: reg:linear is now deprecated in favor of reg:squarederror.\n",
            "MSE: 10.261356422153058\n"
          ],
          "name": "stdout"
        },
        {
          "output_type": "stream",
          "text": [
            "/usr/local/lib/python3.6/dist-packages/xgboost/core.py:587: FutureWarning: Series.base is deprecated and will be removed in a future version\n",
            "  if getattr(data, 'base', None) is not None and \\\n"
          ],
          "name": "stderr"
        },
        {
          "output_type": "stream",
          "text": [
            "[12:50:18] WARNING: /workspace/src/objective/regression_obj.cu:152: reg:linear is now deprecated in favor of reg:squarederror.\n",
            "MSE: 10.489126971844243\n"
          ],
          "name": "stdout"
        },
        {
          "output_type": "stream",
          "text": [
            "/usr/local/lib/python3.6/dist-packages/xgboost/core.py:587: FutureWarning: Series.base is deprecated and will be removed in a future version\n",
            "  if getattr(data, 'base', None) is not None and \\\n"
          ],
          "name": "stderr"
        },
        {
          "output_type": "stream",
          "text": [
            "[12:52:42] WARNING: /workspace/src/objective/regression_obj.cu:152: reg:linear is now deprecated in favor of reg:squarederror.\n",
            "MSE: 10.360214323394253\n"
          ],
          "name": "stdout"
        },
        {
          "output_type": "stream",
          "text": [
            "/usr/local/lib/python3.6/dist-packages/xgboost/core.py:587: FutureWarning: Series.base is deprecated and will be removed in a future version\n",
            "  if getattr(data, 'base', None) is not None and \\\n"
          ],
          "name": "stderr"
        },
        {
          "output_type": "stream",
          "text": [
            "[12:55:06] WARNING: /workspace/src/objective/regression_obj.cu:152: reg:linear is now deprecated in favor of reg:squarederror.\n",
            "MSE: 10.442664584875851\n",
            "[10.47550115]\n"
          ],
          "name": "stdout"
        }
      ]
    },
    {
      "cell_type": "code",
      "metadata": {
        "id": "ORuCHl5X3kpY",
        "colab_type": "code",
        "outputId": "5b9bf422-85f0-442b-d2c4-777d2035328f",
        "colab": {
          "base_uri": "https://localhost:8080/",
          "height": 119
        }
      },
      "source": [
        ""
      ],
      "execution_count": 0,
      "outputs": [
        {
          "output_type": "stream",
          "text": [
            "MSE: 10.6450\n",
            "MSE: 10.1874\n",
            "MSE: 10.4576\n",
            "MSE: 10.1608\n",
            "MSE: 10.2537\n",
            "[10.3408982]\n"
          ],
          "name": "stdout"
        }
      ]
    },
    {
      "cell_type": "code",
      "metadata": {
        "id": "_X90gAaMK7cG",
        "colab_type": "code",
        "outputId": "cbe26b11-8a8a-4bed-a0ad-85d8ae2f82a4",
        "colab": {
          "base_uri": "https://localhost:8080/",
          "height": 115
        }
      },
      "source": [
        "##random forest regression\n",
        "\n",
        "score = []\n",
        "\n",
        "for train_index, test_index in cv.split(x,y):\n",
        "    model = RandomForestRegressor(n_estimators=10, max_depth=5, random_state=3)\n",
        "    \n",
        "    x_train, x_test = x.iloc[train_index], x.iloc[test_index]\n",
        "    y_train, y_test = y.iloc[train_index], y.iloc[test_index]\n",
        "    \n",
        "    model.fit(x_train, y_train)\n",
        "    y_pred = model.predict(x_test)\n",
        "    \n",
        "    mse = mean_squared_error(y_test, y_pred)\n",
        "    mse = mse**0.5    \n",
        "    \n",
        "    score.append([mse])\n",
        "    \n",
        "    print(\"MSE:\", mse)\n",
        "print(np.mean(score, axis=0))"
      ],
      "execution_count": 0,
      "outputs": [
        {
          "output_type": "stream",
          "text": [
            "MSE: 10.40186945608757\n",
            "MSE: 9.889863572069476\n",
            "MSE: 10.184763549922017\n",
            "MSE: 9.802224748117316\n",
            "MSE: 9.981686604882004\n",
            "[10.05208159]\n"
          ],
          "name": "stdout"
        }
      ]
    },
    {
      "cell_type": "code",
      "metadata": {
        "id": "tbR9PpWAsmeF",
        "colab_type": "code",
        "colab": {}
      },
      "source": [
        ""
      ],
      "execution_count": 0,
      "outputs": []
    }
  ]
}